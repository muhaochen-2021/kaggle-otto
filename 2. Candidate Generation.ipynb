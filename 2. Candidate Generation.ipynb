{
 "cells": [
  {
   "cell_type": "code",
   "execution_count": null,
   "id": "19803c5d",
   "metadata": {
    "execution": {
     "iopub.execute_input": "2022-11-28T18:49:25.672561Z",
     "iopub.status.busy": "2022-11-28T18:49:25.671835Z",
     "iopub.status.idle": "2022-11-28T18:49:28.346781Z",
     "shell.execute_reply": "2022-11-28T18:49:28.345442Z"
    },
    "papermill": {
     "duration": 2.696152,
     "end_time": "2022-11-28T18:49:28.349900",
     "exception": false,
     "start_time": "2022-11-28T18:49:25.653748",
     "status": "completed"
    },
    "tags": []
   },
   "outputs": [],
   "source": [
    "VER = 6\n",
    "\n",
    "import pandas as pd, numpy as np\n",
    "from tqdm.notebook import tqdm\n",
    "tqdm.pandas()\n",
    "\n",
    "import os, sys, pickle, glob, gc\n",
    "from collections import Counter\n",
    "import cudf, itertools\n",
    "print('We will use RAPIDS version',cudf.__version__)\n",
    "\n",
    "pd.set_option('display.max_rows', 500)\n",
    "pd.set_option('display.max_columns', 500)\n",
    "\n",
    "from pandarallel import pandarallel\n",
    "\n",
    "pandarallel.initialize(nb_workers=4, progress_bar=True, use_memory_fs=False)"
   ]
  },
  {
   "cell_type": "markdown",
   "id": "e2505537",
   "metadata": {
    "papermill": {
     "duration": 0.020472,
     "end_time": "2022-11-28T18:57:43.433117",
     "exception": false,
     "start_time": "2022-11-28T18:57:43.412645",
     "status": "completed"
    },
    "tags": []
   },
   "source": [
    "# Candidate Generation"
   ]
  },
  {
   "cell_type": "code",
   "execution_count": null,
   "id": "15a31502",
   "metadata": {},
   "outputs": [],
   "source": [
    "GENERATE_FOR = \"kaggle\" # \"kaggle\"\n",
    "CANDIDATE_COUNT = 100 # 候选集大小"
   ]
  },
  {
   "cell_type": "code",
   "execution_count": null,
   "id": "e70b81b7",
   "metadata": {},
   "outputs": [],
   "source": [
    "type_labels = {'clicks':0, 'carts':1, 'orders':2}"
   ]
  },
  {
   "cell_type": "code",
   "execution_count": null,
   "id": "80591d1b",
   "metadata": {
    "scrolled": true
   },
   "outputs": [],
   "source": [
    "if GENERATE_FOR == \"local\":\n",
    "    target_df = pd.read_parquet(\"./splitted_raw_data/val.parquet\")\n",
    "    target_covisit = \"local\"\n",
    "elif GENERATE_FOR == \"kaggle\":\n",
    "    target_df = pd.read_parquet(\"./splitted_raw_data/test.parquet\")\n",
    "    target_covisit = \"kaggle\""
   ]
  },
  {
   "cell_type": "code",
   "execution_count": null,
   "id": "5d0d1d51",
   "metadata": {
    "execution": {
     "iopub.execute_input": "2022-11-28T18:57:44.817686Z",
     "iopub.status.busy": "2022-11-28T18:57:44.816830Z",
     "iopub.status.idle": "2022-11-28T18:59:26.122456Z",
     "shell.execute_reply": "2022-11-28T18:59:26.121442Z"
    },
    "papermill": {
     "duration": 101.350316,
     "end_time": "2022-11-28T18:59:26.144953",
     "exception": false,
     "start_time": "2022-11-28T18:57:44.794637",
     "status": "completed"
    },
    "tags": []
   },
   "outputs": [],
   "source": [
    "def pqt_to_dict(df):\n",
    "    return df.groupby('aid_x').aid_y.apply(list).to_dict()\n",
    "\n",
    "DISK_PIECES = 4\n",
    "\n",
    "# 载入3个共访问矩阵\n",
    "# 1. clicks\n",
    "top_20_clicks = pqt_to_dict( pd.read_parquet(f'../raw_data/{target_covisit}_covisitation/{target_covisit}_top_{CANDIDATE_COUNT}_clicks_v{VER}_0.pqt') )\n",
    "\n",
    "for k in range(1,DISK_PIECES): \n",
    "    top_20_clicks.update( pqt_to_dict( pd.read_parquet(f'../raw_data/{target_covisit}_covisitation/{target_covisit}_top_{CANDIDATE_COUNT}_clicks_v{VER}_{k}.pqt') ) )\n",
    "\n",
    "# 2. buys\n",
    "top_20_buys = pqt_to_dict( pd.read_parquet(f'../raw_data/{target_covisit}_covisitation/{target_covisit}_top_{CANDIDATE_COUNT}_carts_orders_v{VER}_0.pqt') )\n",
    "\n",
    "for k in range(1,DISK_PIECES): \n",
    "    top_20_buys.update( pqt_to_dict( pd.read_parquet(f'../raw_data/{target_covisit}_covisitation/{target_covisit}_top_{CANDIDATE_COUNT}_carts_orders_v{VER}_{k}.pqt') ) )\n",
    "\n",
    "# 3. buy2buy\n",
    "top_20_buy2buy = pqt_to_dict( pd.read_parquet(f'../raw_data/{target_covisit}_covisitation/{target_covisit}_top_{CANDIDATE_COUNT}_buy2buy_v{VER}_0.pqt') )\n",
    "\n",
    "print('Here are size of our 3 co-visitation matrices:')\n",
    "print( len( top_20_clicks ), len( top_20_buy2buy ), len( top_20_buys ) )\n",
    "\n",
    "# {aid_x1: [aid_y1, aid_y2, aid_y3, ...], ...}\n",
    "# {0: [532042, 643097,  1735605, 1848174, 706401,  1363081, 1546770, 1670582, 1040235, 1114899, 1798779, 341490,  1211854, 1350484, 326027],\n",
    "#  1: [28092,  1533875, 645003,  1234826, 1815894, 590833,  1835190, 748990,  166683,  466841,  408008,  1838453, 785492,  1323311, 141693],"
   ]
  },
  {
   "cell_type": "code",
   "execution_count": null,
   "id": "3c1ea7d7",
   "metadata": {
    "execution": {
     "iopub.execute_input": "2022-11-28T18:59:26.187705Z",
     "iopub.status.busy": "2022-11-28T18:59:26.187369Z",
     "iopub.status.idle": "2022-11-28T18:59:26.539477Z",
     "shell.execute_reply": "2022-11-28T18:59:26.538464Z"
    },
    "papermill": {
     "duration": 0.376422,
     "end_time": "2022-11-28T18:59:26.542075",
     "exception": false,
     "start_time": "2022-11-28T18:59:26.165653",
     "status": "completed"
    },
    "tags": []
   },
   "outputs": [],
   "source": [
    "top_clicks = target_df.loc[target_df['type']== 0,'aid'].value_counts().index.values[:CANDIDATE_COUNT]  # 点击最多的前100个items\n",
    "top_carts = target_df.loc[target_df['type']== 1,'aid'].value_counts().index.values[:CANDIDATE_COUNT] # 加入购物车最多的前100个items\n",
    "top_orders = target_df.loc[target_df['type']== 2,'aid'].value_counts().index.values[:CANDIDATE_COUNT] # 下单最多的前100个items"
   ]
  },
  {
   "cell_type": "code",
   "execution_count": null,
   "id": "9be8bf3c",
   "metadata": {
    "execution": {
     "iopub.execute_input": "2022-11-28T18:59:26.586526Z",
     "iopub.status.busy": "2022-11-28T18:59:26.584894Z",
     "iopub.status.idle": "2022-11-28T18:59:26.628649Z",
     "shell.execute_reply": "2022-11-28T18:59:26.627675Z"
    },
    "papermill": {
     "duration": 0.067955,
     "end_time": "2022-11-28T18:59:26.631088",
     "exception": false,
     "start_time": "2022-11-28T18:59:26.563133",
     "status": "completed"
    },
    "tags": []
   },
   "outputs": [],
   "source": [
    "type_weight_multipliers = {0: 1, 1: 5, 2: 4}\n",
    "\n",
    "def suggest_clicks(df):\n",
    "    '''\n",
    "    df: test_df groupby session, sort by ts\n",
    "    top_100_clicks\n",
    "    '''\n",
    "    aids=df.aid.tolist() #aids列表, ts升序\n",
    "    types = df.type.tolist() # types列表, ts升序\n",
    "    unique_aids = list(dict.fromkeys(aids[::-1] )) # 去重aids, ts降序\n",
    "    # 如果 unique_aids >= 100, 根据 时间权重 和 type权重 从unique_aids中挑出100个items；\n",
    "    # 如果 unique_aids < 100, 从top_100_clicks挑出和unique_aids最相关的items。\n",
    "    if len(unique_aids)>=CANDIDATE_COUNT:\n",
    "        weights=np.logspace(0.1,1,len(aids),base=2, endpoint=True)-1 # logspace权重0-1，时间越早权重越小\n",
    "        aids_temp = Counter() \n",
    "        # RERANK BASED ON REPEAT ITEMS AND TYPE OF ITEMS\n",
    "        for aid,w,t in zip(aids,weights,types): \n",
    "            # ts权重 * type权重\n",
    "            aids_temp[aid] += w * type_weight_multipliers[t]\n",
    "        sorted_aids = [k for k,v in aids_temp.most_common(CANDIDATE_COUNT)] # 选择权重最大的100个items\n",
    "        return sorted_aids\n",
    "\n",
    "\n",
    "    # 从top_20_clicks挑出和unique_aids最相关的20个items\n",
    "    aids2 = list(itertools.chain(*[top_20_clicks[aid] for aid in unique_aids if aid in top_20_clicks])) # 时间越近的items，其关联的20个items\n",
    "    top_aids2 = [aid2 for aid2, cnt in Counter(aids2).most_common(CANDIDATE_COUNT) if aid2 not in unique_aids] # 在 unique_aids 中未出现的，且在上述列表中最常见的100个items    \n",
    "    result = unique_aids + top_aids2[:CANDIDATE_COUNT - len(unique_aids)]\n",
    "    # USE TOP100 TEST CLICKS\n",
    "    return result + list(top_clicks)[:CANDIDATE_COUNT-len(result)] # 如果上述不足100个items, 则补上加上全局clicks最多的items"
   ]
  },
  {
   "cell_type": "code",
   "execution_count": null,
   "id": "24734866",
   "metadata": {
    "execution": {
     "iopub.execute_input": "2022-11-28T18:59:26.675199Z",
     "iopub.status.busy": "2022-11-28T18:59:26.674315Z",
     "iopub.status.idle": "2022-11-28T18:59:26.685137Z",
     "shell.execute_reply": "2022-11-28T18:59:26.684283Z"
    },
    "papermill": {
     "duration": 0.034792,
     "end_time": "2022-11-28T18:59:26.687072",
     "exception": false,
     "start_time": "2022-11-28T18:59:26.652280",
     "status": "completed"
    },
    "tags": []
   },
   "outputs": [],
   "source": [
    "def suggest_carts(df):\n",
    "    '''\n",
    "    df: test_df groupby session, sort by ts\n",
    "    top_100_clicks\n",
    "    top_100_buys\n",
    "    '''\n",
    "    # User history aids and types\n",
    "    aids = df.aid.tolist() #aids列表, ts升序\n",
    "    types = df.type.tolist() # types列表, ts升序\n",
    "    \n",
    "    # UNIQUE AIDS AND UNIQUE BUYS\n",
    "    unique_aids = list(dict.fromkeys(aids[::-1] )) # 去重aids, ts降序\n",
    "    df = df.loc[(df['type'] == 0)|(df['type'] == 1)] # 只挑选clicks和carts\n",
    "    unique_buys = list(dict.fromkeys(df.aid.tolist()[::-1])) # 去重aids, ts降序  \n",
    "    \n",
    "    # 如果 unique_aids >= 100, 根据 时间权重、type权重、top_100_buys 从unique_aids中挑出100个items；\n",
    "    # 如果 unique_aids < 100, 从top_100_clicks和top_100_buys挑出unique_aids最相关的items。\n",
    "    if len(unique_aids) >= CANDIDATE_COUNT:\n",
    "        weights=np.logspace(0.5,1,len(aids),base=2, endpoint=True)-1\n",
    "        aids_temp = Counter() \n",
    "        \n",
    "        # Rerank based on repeat items and types of items\n",
    "        for aid,w,t in zip(aids,weights,types): \n",
    "            # ts权重 * type权重\n",
    "            aids_temp[aid] += w * type_weight_multipliers[t]\n",
    "        \n",
    "        # 从top_100_buys挑出和unique_buys相关的items，这些items权重+0.1\n",
    "        aids2 = list(itertools.chain(*[top_20_buys[aid] for aid in unique_buys if aid in top_20_buys]))\n",
    "        for aid in aids2: aids_temp[aid] += 0.1\n",
    "        sorted_aids = [k for k,v in aids_temp.most_common(CANDIDATE_COUNT)]\n",
    "        return sorted_aids\n",
    "    \n",
    "    # 从top_100_clicks挑出和unique_aids相关的items\n",
    "    aids1 = list(itertools.chain(*[top_20_clicks[aid] for aid in unique_aids if aid in top_20_clicks]))\n",
    "    # 从top_100_buys挑出和unique_aids相关的items\n",
    "    aids2 = list(itertools.chain(*[top_20_buys[aid] for aid in unique_aids if aid in top_20_buys]))\n",
    "    \n",
    "    # 最常见的100个items\n",
    "    top_aids2 = [aid2 for aid2, cnt in Counter(aids1+aids2).most_common(CANDIDATE_COUNT) if aid2 not in unique_aids] \n",
    "    result = unique_aids + top_aids2[:CANDIDATE_COUNT - len(unique_aids)]\n",
    "    \n",
    "    return result + list(top_carts)[:CANDIDATE_COUNT-len(result)] # 如果仍未满100个，则补上全局carts最多的items"
   ]
  },
  {
   "cell_type": "code",
   "execution_count": null,
   "id": "36c3bb74",
   "metadata": {
    "execution": {
     "iopub.execute_input": "2022-11-28T18:59:26.730748Z",
     "iopub.status.busy": "2022-11-28T18:59:26.729600Z",
     "iopub.status.idle": "2022-11-28T18:59:26.740441Z",
     "shell.execute_reply": "2022-11-28T18:59:26.739487Z"
    },
    "papermill": {
     "duration": 0.034647,
     "end_time": "2022-11-28T18:59:26.742452",
     "exception": false,
     "start_time": "2022-11-28T18:59:26.707805",
     "status": "completed"
    },
    "tags": []
   },
   "outputs": [],
   "source": [
    "def suggest_buys(df):\n",
    "    '''\n",
    "    top_100_buys\n",
    "    top_100_buy2buy\n",
    "    '''\n",
    "    # USER HISTORY AIDS AND TYPES\n",
    "    aids=df.aid.tolist() #aids列表, ts升序\n",
    "    types = df.type.tolist() # types列表, ts升序\n",
    "    # UNIQUE AIDS AND UNIQUE BUYS\n",
    "    unique_aids = list(dict.fromkeys(aids[::-1] )) # 去重aids, ts降序\n",
    "    df = df.loc[(df['type']==1)|(df['type']==2)]  # 只挑选carts和orders\n",
    "    unique_buys = list(dict.fromkeys( df.aid.tolist()[::-1] ))  # 去重aids, ts降序\n",
    "    # 如果 unique_aids >= 100, \n",
    "    # 如果 unique_aids < 100, \n",
    "    if len(unique_aids)>=CANDIDATE_COUNT:\n",
    "        weights=np.logspace(0.5,1,len(aids),base=2, endpoint=True)-1 # 时间越近，权重越大\n",
    "        aids_temp = Counter() \n",
    "        for aid,w,t in zip(aids,weights,types): \n",
    "            # 时间权重 * type权重\n",
    "            aids_temp[aid] += w * type_weight_multipliers[t]\n",
    "        # 从top_20_buy2buy挑出和unique_buys相关的items，这些items权重+0.1\n",
    "        aids3 = list(itertools.chain(*[top_20_buy2buy[aid] for aid in unique_buys if aid in top_20_buy2buy]))\n",
    "        for aid in aids3: aids_temp[aid] += 0.1\n",
    "        # pick 20 most_common \n",
    "        sorted_aids = [k for k,v in aids_temp.most_common(CANDIDATE_COUNT)]\n",
    "        return sorted_aids\n",
    "    # 从top_20_buys挑出和unique_aids相关的items\n",
    "    aids2 = list(itertools.chain(*[top_20_buys[aid] for aid in unique_aids if aid in top_20_buys]))\n",
    "    ## 从top_20_buy2buy挑出和unique_aids相关的items\n",
    "    aids3 = list(itertools.chain(*[top_20_buy2buy[aid] for aid in unique_buys if aid in top_20_buy2buy]))\n",
    "    # 最常见的100个items\n",
    "    top_aids2 = [aid2 for aid2, cnt in Counter(aids2+aids3).most_common(CANDIDATE_COUNT) if aid2 not in unique_aids] \n",
    "    result = unique_aids + top_aids2[:CANDIDATE_COUNT - len(unique_aids)]\n",
    "    # USE TOP100 TEST ORDERS\n",
    "    return result + list(top_orders)[:CANDIDATE_COUNT-len(result)]  # 如果仍未满100个，则补上全局orders最多的items"
   ]
  },
  {
   "cell_type": "markdown",
   "id": "708a64f8",
   "metadata": {
    "papermill": {
     "duration": 0.020528,
     "end_time": "2022-11-28T18:59:26.784065",
     "exception": false,
     "start_time": "2022-11-28T18:59:26.763537",
     "status": "completed"
    },
    "tags": []
   },
   "source": [
    "# Create Submission CSV\n",
    "Inferring test data with Pandas groupby is slow. We need to accelerate the following code."
   ]
  },
  {
   "cell_type": "code",
   "execution_count": null,
   "id": "7bd221a8",
   "metadata": {
    "_cell_guid": "b1076dfc-b9ad-4769-8c92-a6c4dae69d19",
    "_uuid": "8f2839f25d086af736a60e9eeb907d3b93b6e0e5",
    "execution": {
     "iopub.execute_input": "2022-11-28T18:59:26.827700Z",
     "iopub.status.busy": "2022-11-28T18:59:26.826548Z",
     "iopub.status.idle": "2022-11-28T19:50:04.630354Z",
     "shell.execute_reply": "2022-11-28T19:50:04.628597Z"
    },
    "papermill": {
     "duration": 3037.848433,
     "end_time": "2022-11-28T19:50:04.653366",
     "exception": false,
     "start_time": "2022-11-28T18:59:26.804933",
     "status": "completed"
    },
    "tags": []
   },
   "outputs": [],
   "source": [
    "# 执行 candidate generation\n",
    "pred_df_clicks = target_df.sort_values([\"session\", \"ts\"]).groupby([\"session\"]).parallel_apply(\n",
    "    lambda x: suggest_clicks(x)\n",
    ")\n",
    "\n",
    "pred_df_carts = target_df.sort_values([\"session\", \"ts\"]).groupby([\"session\"]).parallel_apply(\n",
    "    lambda x: suggest_carts(x)\n",
    ")\n",
    "\n",
    "pred_df_buys = target_df.sort_values([\"session\", \"ts\"]).groupby([\"session\"]).parallel_apply(\n",
    "    lambda x: suggest_buys(x)\n",
    ")"
   ]
  },
  {
   "cell_type": "code",
   "execution_count": null,
   "id": "cee19c1f",
   "metadata": {
    "execution": {
     "iopub.execute_input": "2022-11-28T19:50:04.697211Z",
     "iopub.status.busy": "2022-11-28T19:50:04.696878Z",
     "iopub.status.idle": "2022-11-28T19:50:07.802552Z",
     "shell.execute_reply": "2022-11-28T19:50:07.801423Z"
    },
    "papermill": {
     "duration": 3.130991,
     "end_time": "2022-11-28T19:50:07.805360",
     "exception": false,
     "start_time": "2022-11-28T19:50:04.674369",
     "status": "completed"
    },
    "tags": []
   },
   "outputs": [],
   "source": [
    "clicks_pred_df = pd.DataFrame(pred_df_clicks, columns=[\"aid\"]).reset_index()\n",
    "orders_pred_df = pd.DataFrame(pred_df_buys, columns=[\"aid\"]).reset_index()\n",
    "carts_pred_df = pd.DataFrame(pred_df_carts, columns=[\"aid\"]).reset_index()"
   ]
  },
  {
   "cell_type": "code",
   "execution_count": null,
   "id": "60cfe120",
   "metadata": {},
   "outputs": [],
   "source": [
    "# 保存candidates结果\n",
    "clicks_pred_df.explode(column=\"aid\").to_parquet(f\"./candidate_data/{target_covisit}_{CANDIDATE_COUNT}candidates_clicks.parquet\")\n",
    "orders_pred_df.explode(column=\"aid\").to_parquet(f\"./candidate_data/{target_covisit}_{CANDIDATE_COUNT}candidates_orders.parquet\")\n",
    "carts_pred_df.explode(column=\"aid\").to_parquet(f\"./candidate_data/{target_covisit}_{CANDIDATE_COUNT}candidates_carts.parquet\")"
   ]
  },
  {
   "cell_type": "code",
   "execution_count": null,
   "id": "4e14a7e8",
   "metadata": {},
   "outputs": [],
   "source": []
  }
 ],
 "metadata": {
  "kernelspec": {
   "display_name": "Python 3 (ipykernel)",
   "language": "python",
   "name": "python3"
  },
  "language_info": {
   "codemirror_mode": {
    "name": "ipython",
    "version": 3
   },
   "file_extension": ".py",
   "mimetype": "text/x-python",
   "name": "python",
   "nbconvert_exporter": "python",
   "pygments_lexer": "ipython3",
   "version": "3.8.13"
  },
  "papermill": {
   "default_parameters": {},
   "duration": 3695.647257,
   "end_time": "2022-11-28T19:50:53.428271",
   "environment_variables": {},
   "exception": null,
   "input_path": "__notebook__.ipynb",
   "output_path": "__notebook__.ipynb",
   "parameters": {},
   "start_time": "2022-11-28T18:49:17.781014",
   "version": "2.3.4"
  }
 },
 "nbformat": 4,
 "nbformat_minor": 5
}
