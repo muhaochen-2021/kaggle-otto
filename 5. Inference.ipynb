{
 "cells": [
  {
   "cell_type": "code",
   "execution_count": null,
   "id": "19803c5d",
   "metadata": {
    "execution": {
     "iopub.execute_input": "2022-11-28T18:49:25.672561Z",
     "iopub.status.busy": "2022-11-28T18:49:25.671835Z",
     "iopub.status.idle": "2022-11-28T18:49:28.346781Z",
     "shell.execute_reply": "2022-11-28T18:49:28.345442Z"
    },
    "papermill": {
     "duration": 2.696152,
     "end_time": "2022-11-28T18:49:28.349900",
     "exception": false,
     "start_time": "2022-11-28T18:49:25.653748",
     "status": "completed"
    },
    "scrolled": true,
    "tags": []
   },
   "outputs": [],
   "source": [
    "VER = 6\n",
    "\n",
    "import pandas as pd, numpy as np\n",
    "from tqdm.notebook import tqdm\n",
    "tqdm.pandas()\n",
    "\n",
    "import os, sys, pickle, glob, gc\n",
    "from collections import Counter\n",
    "import cudf, itertools\n",
    "print('We will use RAPIDS version',cudf.__version__)\n",
    "\n",
    "pd.set_option('display.max_rows', 500)\n",
    "pd.set_option('display.max_columns', 500)\n",
    "\n",
    "from pandarallel import pandarallel\n",
    "\n",
    "pandarallel.initialize(nb_workers=4, progress_bar=True, use_memory_fs=False)\n",
    "\n",
    "import xgboost as xgb\n",
    "from sklearn.model_selection import GroupKFold\n",
    "\n",
    "from pyarrow.parquet import ParquetFile\n",
    "import pyarrow as pa \n",
    "\n",
    "from catboost import CatBoostRanker, Pool"
   ]
  },
  {
   "cell_type": "code",
   "execution_count": null,
   "id": "ccf93613",
   "metadata": {},
   "outputs": [],
   "source": [
    "def remove_negative_session(df,target='label'):\n",
    "    '''删除没有正样本的用户'''\n",
    "    true_df = df.groupby('session')[target].agg('sum') > 0\n",
    "    session = pd.DataFrame(true_df[true_df]).reset_index()['session']\n",
    "    df = df.merge(session, how = 'inner', on = 'session')\n",
    "    return df"
   ]
  },
  {
   "cell_type": "markdown",
   "id": "e2505537",
   "metadata": {
    "papermill": {
     "duration": 0.020472,
     "end_time": "2022-11-28T18:57:43.433117",
     "exception": false,
     "start_time": "2022-11-28T18:57:43.412645",
     "status": "completed"
    },
    "tags": []
   },
   "source": [
    "# Training"
   ]
  },
  {
   "cell_type": "code",
   "execution_count": null,
   "id": "e70b81b7",
   "metadata": {},
   "outputs": [],
   "source": [
    "type_labels = {'clicks':0, 'carts':1, 'orders':2}\n",
    "CANDIDATE_COUNT = 100\n",
    "RUN_FOR = \"kaggle\" # \"kaggle\"\n",
    "# 验证集\n",
    "train_sessions = np.load(\"./splitted_raw_data/val_sessions_for_train.npy\", allow_pickle=True)"
   ]
  },
  {
   "cell_type": "code",
   "execution_count": null,
   "id": "d98185d8",
   "metadata": {},
   "outputs": [],
   "source": [
    "import json\n",
    "with open(\"./models/model_iters.json\", \"r\") as read_file:\n",
    "    model_iters = json.load(read_file)\n",
    "model_iters"
   ]
  },
  {
   "cell_type": "code",
   "execution_count": null,
   "id": "fb75eb40",
   "metadata": {
    "scrolled": true
   },
   "outputs": [],
   "source": [
    "subs = []\n",
    "\n",
    "for type_str in tqdm(list(type_labels.keys())):\n",
    "    # candidated_features 路径\n",
    "    batches = sorted(glob.glob(f\"./candidated_features/{RUN_FOR}_{type_str}_all_data_{CANDIDATE_COUNT}candidates_p*.pqt\"))\n",
    "    # xgb 模型路径\n",
    "    model_paths = sorted(glob.glob(f\"./models/XGB_{CANDIDATE_COUNT}candidates_fold*_{type_str}.xgb\"))\n",
    "\n",
    "    all_predictions = []\n",
    "    for batch in tqdm(batches):\n",
    "        # 读取 candidated_features\n",
    "        whole_df = pd.read_parquet(batch)\n",
    "\n",
    "        if RUN_FOR == \"local\":\n",
    "            whole_df = whole_df[~whole_df.session.isin(train_sessions)].reset_index(drop=True) # 排除验证集的用户\n",
    "        \n",
    "        print(f\"Processing {len(whole_df)} rows...\")\n",
    "\n",
    "        CHUNK_SIZE = 1_500_000\n",
    "        for chunk_num in range(len(whole_df) // CHUNK_SIZE + 1):\n",
    "            start_index = chunk_num*CHUNK_SIZE\n",
    "            end_index = min(chunk_num*CHUNK_SIZE + CHUNK_SIZE, len(whole_df))\n",
    "            print(start_index, end_index)\n",
    "            chunk_df = whole_df.iloc[start_index:end_index] # 获取 chunk 的数据\n",
    "\n",
    "            FEATURES = chunk_df.columns[2 : -1] # 获取特征\n",
    "            dtest = xgb.DMatrix(data=chunk_df[FEATURES]) # 转换为 xgb 的数据格式\n",
    "\n",
    "            preds = [] \n",
    "\n",
    "            for model_path in model_paths:\n",
    "                model = xgb.Booster() # 初始化 xgb 模型\n",
    "                model.load_model(model_path) # 加载模型 \n",
    "                model.set_param({'predictor': 'gpu_predictor'}) # 设置模型参数\n",
    "                preds.append(model.predict(dtest)) # 预测\n",
    "                \n",
    "            preds = np.mean(preds, axis=0) # 平均多个模型的预测值\n",
    "            \n",
    "            predictions = chunk_df[['session','aid']].copy() # 获取 session 和 aid\n",
    "            predictions['pred'] = preds # 添加预测值\n",
    "            all_predictions.append(predictions) # 添加到 all_predictions\n",
    "        \n",
    "    all_predictions = pd.concat(all_predictions, ignore_index=True) # 合并 all_predictions\n",
    "    \n",
    "    # 根据预测的分数排序\n",
    "    all_predictions = all_predictions.sort_values(['session','pred'],\n",
    "                                                  ascending=[True,False]).reset_index(drop=True)\n",
    "    # 保存预测的分数\n",
    "    all_predictions.to_parquet(f\"../raw_data/soft_scores/{RUN_FOR}_{type_str}_soft_scores.parquet\")\n",
    "    # 取出 top20 的 aid    \n",
    "    all_predictions['n'] = all_predictions.groupby('session').aid.cumcount().astype('int8')\n",
    "    all_predictions = all_predictions.loc[all_predictions.n<20]\n",
    "    # 保存进 subs\n",
    "    sub = all_predictions.groupby('session').aid.apply(list) # 按 session 分组，组内 aid 存成 list\n",
    "    sub = sub.to_frame().reset_index()\n",
    "    sub.item = sub.aid.apply(lambda x: \" \".join(map(str,x))) # list 转成 str\n",
    "    sub.columns = ['session_type','labels']\n",
    "    sub.session_type = sub.session_type.astype('str') + '_' + type_str\n",
    "\n",
    "    subs.append(sub)"
   ]
  },
  {
   "cell_type": "markdown",
   "id": "988d59c2",
   "metadata": {},
   "source": [
    "## Local Score"
   ]
  },
  {
   "cell_type": "code",
   "execution_count": null,
   "id": "09b4d352",
   "metadata": {},
   "outputs": [],
   "source": [
    "# 合并 subs\n",
    "final_sub = pd.concat(subs, ignore_index=True)\n",
    "final_sub.sort_values(by=\"session_type\", ascending=True).reset_index(drop=True)\n",
    "\n",
    "# 如果本地运行，计算分数\n",
    "if RUN_FOR == \"local\":\n",
    "    # COMPUTE METRIC\n",
    "    score = 0\n",
    "    weights = {'clicks': 0.10, 'carts': 0.30, 'orders': 0.60}\n",
    "    for t in [\n",
    "        'clicks',\n",
    "        'carts',\n",
    "        'orders'\n",
    "    ]:\n",
    "        sub = final_sub.loc[final_sub.session_type.str.contains(t)].copy()\n",
    "        sub['session'] = sub.session_type.apply(lambda x: int(x.split('_')[0]))\n",
    "        test_labels = pd.read_parquet('./splitted_raw_data/val_labels.parquet') # 读取验证集的标签\n",
    "        test_labels = test_labels[~test_labels.session.isin(train_sessions)].reset_index(drop=True) # 排除验证集的用户\n",
    "        test_labels = test_labels.loc[test_labels['type']==t] # 只保留 t 类型的标签\n",
    "        test_labels = test_labels.merge(sub, how='left', on=['session']) # 合并预测的标签\n",
    "        test_labels['labels'] = test_labels['labels'].fillna(\"\").apply(list) # 填充空值\n",
    "        test_labels['hits'] = test_labels.apply(lambda df: len(set(df.ground_truth).intersection(set(df.labels))), axis=1) # 计算命中数\n",
    "        test_labels['gt_count'] = test_labels.ground_truth.str.len().clip(0,20) # 计算 ground_truth 的长度\n",
    "        recall = test_labels['hits'].sum() / test_labels['gt_count'].sum() # 计算召回率\n",
    "        score += weights[t]*recall # 计算加权召回率\n",
    "        print(f'{t} recall =',recall) # 打印召回率\n",
    "\n",
    "    print('=============')\n",
    "    print('Overall Recall =',score)\n",
    "    print('=============')\n",
    "\n",
    "# 如果是 kaggle，输出结果文件\n",
    "elif RUN_FOR == \"kaggle\":\n",
    "    final_sub[\"labels\"] = final_sub.labels.apply(lambda x: \" \".join([str(elm) for elm in x]))\n",
    "    final_sub.to_csv(\"submission.csv.gz\", index=False, compression='gzip')"
   ]
  }
 ],
 "metadata": {
  "kernelspec": {
   "display_name": "py37",
   "language": "python",
   "name": "python3"
  },
  "language_info": {
   "codemirror_mode": {
    "name": "ipython",
    "version": 3
   },
   "file_extension": ".py",
   "mimetype": "text/x-python",
   "name": "python",
   "nbconvert_exporter": "python",
   "pygments_lexer": "ipython3",
   "version": "3.7.11"
  },
  "papermill": {
   "default_parameters": {},
   "duration": 3695.647257,
   "end_time": "2022-11-28T19:50:53.428271",
   "environment_variables": {},
   "exception": null,
   "input_path": "__notebook__.ipynb",
   "output_path": "__notebook__.ipynb",
   "parameters": {},
   "start_time": "2022-11-28T18:49:17.781014",
   "version": "2.3.4"
  },
  "vscode": {
   "interpreter": {
    "hash": "b79a61544c9a744d09395b396d14bdc3ab2980641b64ddb1c7bc6d7b892900a0"
   }
  }
 },
 "nbformat": 4,
 "nbformat_minor": 5
}
